{
 "cells": [
  {
   "cell_type": "code",
   "execution_count": 5,
   "metadata": {},
   "outputs": [
    {
     "data": {
      "text/plain": [
       "10"
      ]
     },
     "execution_count": 5,
     "metadata": {},
     "output_type": "execute_result"
    }
   ],
   "source": [
    "#system 'gem install bloomer --user-install'\n",
    "require 'zlib'\n",
    "require 'msgpack'\n",
    "require 'digest/md5'\n",
    "require 'bloomer/msgpackable'\n",
    "require 'bloomer'\n",
    "$source_vocabulary_to_fhir_url = {\n",
    "    'RXNORM'=> 'http://www.nlm.nih.gov/research/umls/rxnorm',\n",
    "    'LNC'=> 'http://loinc.org',\n",
    "    'SNOMEDCT_US'=> 'http://snomed.info/sct',\n",
    "    'NCI_UCUM'=> 'http://unitsofmeasure.org',\n",
    "    'CPT'=> 'http://www.ama-assn.org/go/cpt',\n",
    "    'NDFRT'=> 'http://hl7.org/fhir/ndfrt',\n",
    "    'CVX'=> 'http://hl7.org/fhir/sid/cvx',\n",
    "    'DSM-5'=> 'http://hl7.org/fhir/sid/dsm5',\n",
    "    'ICD9CM'=> 'http://hl7.org/fhir/sid/icd-9-cm',\n",
    "    'ICD10CM'=> 'http://hl7.org/fhir/sid/icd-10',\n",
    "    'ICF'=> 'http://hl7.org/fhir/sid/icf-nl',\n",
    "    'ATC'=> 'http://www.whocc.no/atc',\n",
    "    'NUCCPT'=> 'http://nucc.org/provider-taxonomy',\n",
    "    'OMIM'=> 'http://www.omim.org'\n",
    "}\n",
    "\n",
    "count = 0\n",
    "$count_by_source_vocabulary = Hash.new(0)\n",
    "$all_by_source_vocabulary = Hash.new { |h, k| h[k] = [] }\n",
    "\n",
    "idx_conso_cui = \n",
    "idx_conso_cui = \n",
    "idx_termtype = 2\n",
    "idx_source_vocabulary = 11\n",
    "idx_source_tty = 12\n",
    "idx_source_code = 13\n",
    "idx_display = 14\n",
    "\n",
    "10"
   ]
  },
  {
   "cell_type": "code",
   "execution_count": 12,
   "metadata": {},
   "outputs": [
    {
     "data": {
      "text/plain": [
       "{}"
      ]
     },
     "execution_count": 12,
     "metadata": {},
     "output_type": "execute_result"
    }
   ],
   "source": [
    "count =  0\n",
    "all_codes = []\n",
    "for infile in Dir[\"scratch/2018AA-full/2018AA/META/MRCONSO.RRF.*.gz\"]\n",
    "  puts \"test\", infile\n",
    "  gz = Zlib::GzipReader.new(open(infile))\n",
    "  gz.each_line do |line|\n",
    "    parts = line.split(\"|\")\n",
    "    # only keep preferred terms\n",
    "    if parts[idx_termtype] != 'P' \n",
    "      next\n",
    "    end\n",
    "    puts parts\n",
    "    if count > 10\n",
    "      break\n",
    "    end\n",
    "    $count_by_source_vocabulary[parts[idx_source_vocabulary]] += 1\n",
    "    if $source_vocabulary_to_fhir_url.key?(parts[idx_source_vocabulary])\n",
    "      coding_system = $source_vocabulary_to_fhir_url[parts[idx_source_vocabulary]]\n",
    "      coding_code = parts[idx_source_code]\n",
    "      coding_display = parts[idx_display]\n",
    "      tty = parts[idx_source_tty]\n",
    "      $all_by_source_vocabulary[parts[idx_source_vocabulary]].push({\n",
    "        :system => coding_system,\n",
    "        :code => coding_code,\n",
    "        :display => coding_display,\n",
    "        :tty => parts[idx_source_tty]\n",
    "      })\n",
    "    end\n",
    "    count +=1\n",
    "  end\n",
    "end\n",
    "\n",
    "\n",
    "def include_codes_in_filter(vs_array, vocab_key, property, values)\n",
    "  c=0\n",
    "  $all_by_source_vocabulary.each do |one_vocab_key, terms|\n",
    "    next if vocab_key != '*' and vocab_key != one_vocab_key\n",
    "    terms.each do |coding|\n",
    "      c += 1    \n",
    "      if values == \"*\" or values.include? coding[property]\n",
    "        vs_array.push(coding)\n",
    "      end\n",
    "    end\n",
    "  end\n",
    "end\n",
    "\n",
    "$count_by_source_vocabulary.each do |k,c|\n",
    "  if $source_vocabulary_to_fhir_url.key?(k)\n",
    "    puts \"#{k}\\t\\t\\t#{c}\"\n",
    "  end\n",
    "end"
   ]
  },
  {
   "cell_type": "code",
   "execution_count": 6,
   "metadata": {},
   "outputs": [
    {
     "data": {
      "text/plain": [
       "false"
      ]
     },
     "execution_count": 6,
     "metadata": {},
     "output_type": "execute_result"
    }
   ],
   "source": [
    "require 'bloomer'"
   ]
  },
  {
   "cell_type": "code",
   "execution_count": null,
   "metadata": {},
   "outputs": [
    {
     "ename": "NameError",
     "evalue": "undefined local variable or method `all_by_source_vocabulary' for main:Object",
     "output_type": "error",
     "traceback": [
      "\u001b[31mNameError\u001b[0m: undefined local variable or method `all_by_source_vocabulary' for main:Object",
      "<main>:in `<main>'",
      "/var/lib/gems/2.5.0/gems/iruby-0.4.0/lib/iruby/backend.rb:44:in `eval'",
      "/var/lib/gems/2.5.0/gems/iruby-0.4.0/lib/iruby/backend.rb:44:in `eval'",
      "/var/lib/gems/2.5.0/gems/iruby-0.4.0/lib/iruby/backend.rb:12:in `eval'",
      "/var/lib/gems/2.5.0/gems/iruby-0.4.0/lib/iruby/kernel.rb:90:in `execute_request'",
      "/var/lib/gems/2.5.0/gems/iruby-0.4.0/lib/iruby/kernel.rb:49:in `dispatch'",
      "/var/lib/gems/2.5.0/gems/iruby-0.4.0/lib/iruby/kernel.rb:38:in `run'",
      "/var/lib/gems/2.5.0/gems/iruby-0.4.0/lib/iruby/command.rb:110:in `run_kernel'",
      "/var/lib/gems/2.5.0/gems/iruby-0.4.0/lib/iruby/command.rb:40:in `run'",
      "/var/lib/gems/2.5.0/gems/iruby-0.4.0/bin/iruby:5:in `<top (required)>'",
      "/usr/local/bin/iruby:23:in `load'",
      "/usr/local/bin/iruby:23:in `<main>'"
     ]
    }
   ],
   "source": [
    "all_by_source_vocabulary[\"OK\"].push(5)"
   ]
  },
  {
   "cell_type": "code",
   "execution_count": null,
   "metadata": {},
   "outputs": [
    {
     "ename": "NameError",
     "evalue": "undefined local variable or method `all_by_source_vocabulary' for main:Object",
     "output_type": "error",
     "traceback": [
      "\u001b[31mNameError\u001b[0m: undefined local variable or method `all_by_source_vocabulary' for main:Object",
      "<main>:in `<main>'",
      "/var/lib/gems/2.5.0/gems/iruby-0.4.0/lib/iruby/backend.rb:44:in `eval'",
      "/var/lib/gems/2.5.0/gems/iruby-0.4.0/lib/iruby/backend.rb:44:in `eval'",
      "/var/lib/gems/2.5.0/gems/iruby-0.4.0/lib/iruby/backend.rb:12:in `eval'",
      "/var/lib/gems/2.5.0/gems/iruby-0.4.0/lib/iruby/kernel.rb:90:in `execute_request'",
      "/var/lib/gems/2.5.0/gems/iruby-0.4.0/lib/iruby/kernel.rb:49:in `dispatch'",
      "/var/lib/gems/2.5.0/gems/iruby-0.4.0/lib/iruby/kernel.rb:38:in `run'",
      "/var/lib/gems/2.5.0/gems/iruby-0.4.0/lib/iruby/command.rb:110:in `run_kernel'",
      "/var/lib/gems/2.5.0/gems/iruby-0.4.0/lib/iruby/command.rb:40:in `run'",
      "/var/lib/gems/2.5.0/gems/iruby-0.4.0/bin/iruby:5:in `<top (required)>'",
      "/usr/local/bin/iruby:23:in `load'",
      "/usr/local/bin/iruby:23:in `<main>'"
     ]
    }
   ],
   "source": [
    "all_by_source_vocabulary.each {|t,v| puts(t,v)}"
   ]
  },
  {
   "cell_type": "code",
   "execution_count": null,
   "metadata": {},
   "outputs": [],
   "source": [
    "require 'zlib'\n",
    "\n",
    "idx_rel_parent_cui = 0\n",
    "idx_rel_parent_aui = 1\n",
    "idx_rel_child_cui = 4\n",
    "idx_rel_child_aui = 5\n",
    "idx_rel_name = 7\n",
    "count=0\n",
    "for infile in Dir[\"scratch/2018AA-full/2018AA/META/MRREL.RRF.*.gz\"]\n",
    "  puts \"load rels from\", infile\n",
    "  gz = Zlib::GzipReader.new(open(infile))\n",
    "  gz.each_line do |line|\n",
    "    parts = line.split(\"|\")\n",
    "    # only keep preferred terms\n",
    "    count += 1\n",
    "    if count > 10\n",
    "      break\n",
    "    end\n",
    "    \n",
    "    puts \"#{parts[idx_rel_parent_cui]}/#{parts[idx_rel_parent_aui]} #{parts[idx_rel_name]} #{parts[idx_rel_child_cui]}/#{parts[idx_rel_child_aui]}\"\n",
    "\n",
    "  end\n",
    "end\n"
   ]
  },
  {
   "cell_type": "code",
   "execution_count": 1,
   "metadata": {},
   "outputs": [
    {
     "data": {
      "text/plain": [
       "#<SQLite3::Database:0x000056019e83db00 @tracefunc=nil, @authorizer=nil, @encoding=nil, @busy_handler=nil, @collations={}, @functions={}, @results_as_hash=nil, @type_translation=nil, @type_translator=#<Proc:0x000056019e83f798@/home/jmandel/.gem/ruby/2.5.0/gems/sqlite3-1.4.1/lib/sqlite3/database.rb:722 (lambda)>, @readonly=false>"
      ]
     },
     "execution_count": 1,
     "metadata": {},
     "output_type": "execute_result"
    }
   ],
   "source": [
    "require \"sqlite3\"\n",
    "db = SQLite3::Database.open \"output/umls.sqlite\"\n"
   ]
  },
  {
   "cell_type": "code",
   "execution_count": null,
   "metadata": {},
   "outputs": [],
   "source": [
    "[5,false].any? do |e|\n",
    "  e==5\n",
    "end"
   ]
  },
  {
   "cell_type": "code",
   "execution_count": 2,
   "metadata": {},
   "outputs": [
    {
     "name": "stdout",
     "output_type": "stream",
     "text": [
      "[\"SNOMEDCT_US\", \"PT\", \"74400008\", \"Appendicitis\", \"isa\", \"SNOMEDCT_US\", \"PT\", \"24526004\", \"Inflammatory bowel disease\"]\n",
      "[\"SNOMEDCT_US\", \"PT\", \"74400008\", \"Appendicitis\", \"isa\", \"SNOMEDCT_US\", \"PT\", \"302168000\", \"Inflammation of large intestine\"]\n",
      "[\"SNOMEDCT_US\", \"PT\", \"74400008\", \"Appendicitis\", \"isa\", \"SNOMEDCT_US\", \"PT\", \"363169009\", \"Inflammation of specific body organs\"]\n",
      "[\"SNOMEDCT_US\", \"PT\", \"74400008\", \"Appendicitis\", \"isa\", \"SNOMEDCT_US\", \"PT\", \"18526009\", \"Disorder of appendix\"]\n"
     ]
    },
    {
     "data": {
      "text/plain": [
       "[[\"SNOMEDCT_US\", \"PT\", \"74400008\", \"Appendicitis\", \"isa\", \"SNOMEDCT_US\", \"PT\", \"24526004\", \"Inflammatory bowel disease\"], [\"SNOMEDCT_US\", \"PT\", \"74400008\", \"Appendicitis\", \"isa\", \"SNOMEDCT_US\", \"PT\", \"302168000\", \"Inflammation of large intestine\"], [\"SNOMEDCT_US\", \"PT\", \"74400008\", \"Appendicitis\", \"isa\", \"SNOMEDCT_US\", \"PT\", \"363169009\", \"Inflammation of specific body organs\"], [\"SNOMEDCT_US\", \"PT\", \"74400008\", \"Appendicitis\", \"isa\", \"SNOMEDCT_US\", \"PT\", \"18526009\", \"Disorder of appendix\"]]"
      ]
     },
     "execution_count": 2,
     "metadata": {},
     "output_type": "execute_result"
    }
   ],
   "source": [
    "matches = db.execute \"\n",
    "  select c.sab, c.tty, c.code, c.str, r.rela,\n",
    "  c2.sab, c2.tty, c2.code, c2.str\n",
    "  from\n",
    "    MRCONSO c\n",
    "    join mrrel r on c.aui=r.aui2\n",
    "    join mrconso c2 on c2.aui=r.aui1\n",
    "  where \n",
    "    c.code='74400008' and c.sab='SNOMEDCT_US' and c.tty='PT' and r.rel='CHD'\n",
    "\"\n",
    "matches.each {|x| puts x}"
   ]
  },
  {
   "cell_type": "code",
   "execution_count": null,
   "metadata": {},
   "outputs": [],
   "source": [
    "matches = db.execute \"\n",
    "with auis as (with recursive \n",
    "  ancestor_of_base(parent_aui) as (\n",
    "    select c.aui\n",
    "    from\n",
    "      MRCONSO c\n",
    "    where \n",
    "      c.code='74400008' and c.sab='SNOMEDCT_US' and c.tty='PT'\n",
    "    union all \n",
    "      select r.aui1 from mrrel r join ancestor_of_base a on a.parent_aui=r.aui2 where r.rel='CHD'\n",
    "  )\n",
    "  select distinct parent_aui from ancestor_of_base limit 40\n",
    ")\n",
    "select c.aui, c.code,c.sab,c.str from auis\n",
    "join MRCONSO c on c.aui=auis.parent_aui\n",
    "order by str\n",
    "\"\n",
    "matches.each {|x| puts x}"
   ]
  },
  {
   "cell_type": "code",
   "execution_count": null,
   "metadata": {},
   "outputs": [],
   "source": [
    "root_aui = db.execute(\"\n",
    "  select c.aui\n",
    "    from\n",
    "      MRCONSO c\n",
    "    where \n",
    "      c.code='404684003' and c.sab='SNOMEDCT_US' and c.tty='PT'\n",
    "\")[0][0]\n",
    "\n",
    "require 'set'\n",
    "ancestor_pool = Set.new()\n",
    "ancestor_pool\n",
    "\n",
    "new_next_ancestors = Set.new([root_aui])"
   ]
  },
  {
   "cell_type": "markdown",
   "metadata": {},
   "source": [
    "# Generate subsumption hierarchy for SNOMED\n"
   ]
  },
  {
   "cell_type": "code",
   "execution_count": null,
   "metadata": {},
   "outputs": [
    {
     "name": "stdout",
     "output_type": "stream",
     "text": [
      "Selected SNOMEDCT_US rels from db\n"
     ]
    },
    {
     "ename": "Interrupt",
     "evalue": "",
     "output_type": "error",
     "traceback": [
      "\u001b[31mInterrupt\u001b[0m: ",
      "/usr/lib/ruby/2.5.0/set.rb:136:in `initialize_dup'",
      "/usr/lib/ruby/2.5.0/set.rb:136:in `dup'",
      "/usr/lib/ruby/2.5.0/set.rb:136:in `initialize_dup'",
      "/usr/lib/ruby/2.5.0/set.rb:452:in `dup'",
      "/usr/lib/ruby/2.5.0/set.rb:452:in `|'",
      "<main>:39:in `block (2 levels) in initialize'",
      "/usr/lib/ruby/2.5.0/set.rb:338:in `each_key'",
      "/usr/lib/ruby/2.5.0/set.rb:338:in `each'",
      "<main>:38:in `block in initialize'",
      "<main>:28:in `each'",
      "<main>:28:in `initialize'",
      "<main>:72:in `new'",
      "<main>:72:in `<main>'",
      "/var/lib/gems/2.5.0/gems/iruby-0.4.0/lib/iruby/backend.rb:44:in `eval'",
      "/var/lib/gems/2.5.0/gems/iruby-0.4.0/lib/iruby/backend.rb:44:in `eval'",
      "/var/lib/gems/2.5.0/gems/iruby-0.4.0/lib/iruby/backend.rb:12:in `eval'",
      "/var/lib/gems/2.5.0/gems/iruby-0.4.0/lib/iruby/kernel.rb:90:in `execute_request'",
      "/var/lib/gems/2.5.0/gems/iruby-0.4.0/lib/iruby/kernel.rb:49:in `dispatch'",
      "/var/lib/gems/2.5.0/gems/iruby-0.4.0/lib/iruby/kernel.rb:38:in `run'",
      "/var/lib/gems/2.5.0/gems/iruby-0.4.0/lib/iruby/command.rb:110:in `run_kernel'",
      "/var/lib/gems/2.5.0/gems/iruby-0.4.0/lib/iruby/command.rb:40:in `run'",
      "/var/lib/gems/2.5.0/gems/iruby-0.4.0/bin/iruby:5:in `<top (required)>'",
      "/usr/local/bin/iruby:23:in `load'",
      "/usr/local/bin/iruby:23:in `<main>'"
     ]
    }
   ],
   "source": [
    "class AncestryBuilder\n",
    "  \n",
    "  attr_accessor :sab, :system, :parents, :ancestry\n",
    "\n",
    "  def initialize(sab, db)\n",
    "\n",
    "    @sab = sab\n",
    "    @system = $source_vocabulary_to_fhir_url[sab]\n",
    "\n",
    "    @parents =  Hash.new {|h, k| h[k] = Set.new()}\n",
    "    @ancestry = Hash.new {|h, k| h[k] = Set.new()}\n",
    "\n",
    "    rels = db.execute(\"\n",
    "      select c1.code, c2.code\n",
    "      from\n",
    "        mrrel r\n",
    "        join mrconso c1 on c1.aui=r.aui1\n",
    "        join mrconso c2 on c2.aui=r.aui2\n",
    "      where r.rel='CHD' and r.SAB=?\n",
    "      \",@sab) do |row|    \n",
    "      rparent,rchild = row\n",
    "      @parents[rchild].add(rparent)\n",
    "    end\n",
    "    \n",
    "    puts \"Selected #{@sab} rels from db\"\n",
    "    \n",
    "    aa_cached = {}\n",
    "\n",
    "    @parents.keys.each do |root_code|\n",
    "      @ancestry[root_code] = if aa_cached[root_code]\n",
    "        aa_cached[root_code]\n",
    "      else\n",
    "        count=0\n",
    "        ancestor_pool = Set.new()\n",
    "        new_next_ancestors = Set.new([root_code])\n",
    "        until new_next_ancestors.empty? do\n",
    "          count+=1\n",
    "          next_ancestors = Set.new()\n",
    "          new_next_ancestors.each do |code|\n",
    "            next_ancestors += @parents[code]\n",
    "          end\n",
    "          new_next_ancestors = next_ancestors - ancestor_pool\n",
    "          ancestor_pool += new_next_ancestors\n",
    "        end\n",
    "        aa_cached[root_code] = ancestor_pool\n",
    "        ancestor_pool\n",
    "      end\n",
    "    end\n",
    "    puts \"Populated ancestry for #{@sab}\"  \n",
    "  end\n",
    "\n",
    "  def to_coding(code, display=nil)\n",
    "    return {\n",
    "        :system => @system,\n",
    "        :code => code,\n",
    "        :display => display}.compact\n",
    "  end\n",
    "\n",
    "  def subsumed_by(ancestor_code)\n",
    "    count = 0\n",
    "    members = Set.new()\n",
    "    @ancestry.each do |code, ancestor_set|\n",
    "      if ancestor_set.include? ancestor_code\n",
    "        count +=1\n",
    "        members.add(to_coding(code))\n",
    "      end    \n",
    "    end\n",
    "    return members\n",
    "  end\n",
    "end\n",
    "\n",
    "t1 = Time.now\n",
    "snomed_hierarchy = AncestryBuilder.new(\"SNOMEDCT_US\", db)\n",
    "t2 = Time.now\n",
    "puts t2-t1"
   ]
  },
  {
   "cell_type": "code",
   "execution_count": null,
   "metadata": {},
   "outputs": [],
   "source": [
    "x={5=>1}\n",
    "if x[5]\n",
    "  3\n",
    "else\n",
    "  2\n",
    "end"
   ]
  },
  {
   "cell_type": "code",
   "execution_count": 8,
   "metadata": {},
   "outputs": [
    {
     "data": {
      "text/plain": [
       "[{:system=>\"http://snomed.info/sct\", :code=>\"236016008\"}, {:system=>\"http://snomed.info/sct\", :code=>\"14053009\"}, {:system=>\"http://snomed.info/sct\", :code=>\"162068007\"}, {:system=>\"http://snomed.info/sct\", :code=>\"300402000\"}, {:system=>\"http://snomed.info/sct\", :code=>\"300403005\"}, {:system=>\"http://snomed.info/sct\", :code=>\"8644006\"}, {:system=>\"http://snomed.info/sct\", :code=>\"271835004\"}, {:system=>\"http://snomed.info/sct\", :code=>\"248490000\"}, {:system=>\"http://snomed.info/sct\", :code=>\"128050000\"}, {:system=>\"http://snomed.info/sct\", :code=>\"65576009\"}]"
      ]
     },
     "execution_count": 8,
     "metadata": {},
     "output_type": "execute_result"
    }
   ],
   "source": [
    "snomed_hierarchy.subsumed_by(\"404684003\").take(10)"
   ]
  },
  {
   "cell_type": "code",
   "execution_count": 84,
   "metadata": {},
   "outputs": [
    {
     "data": {
      "text/plain": [
       ":query_types_in"
      ]
     },
     "execution_count": 84,
     "metadata": {},
     "output_type": "execute_result"
    }
   ],
   "source": [
    "class ConceptBuilder\n",
    "  def initialize(sab, db)\n",
    "    @sab = sab\n",
    "    @system = $source_vocabulary_to_fhir_url[sab]\n",
    "    @db = db\n",
    "  end\n",
    "  \n",
    "  def to_coding(code, display=nil)\n",
    "    return {\n",
    "        :system => @system,\n",
    "        :code => code,\n",
    "        :display => display\n",
    "      }.compact\n",
    "  end\n",
    "\n",
    "  def query_types(type_list)\n",
    "    matching_concepts = Set.new\n",
    "    type_list.each do |t|\n",
    "      by_type = @db.execute(\"select code from MRCONSO where sab=? and tty=?\", [@sab, t])\n",
    "      matching_concepts += by_type.map {|cl| to_coding(cl[0])}\n",
    "    end\n",
    "    return matching_concepts\n",
    "  end\n",
    "  \n",
    "  def query_all()\n",
    "    matching_concepts = Set.new\n",
    "    by_type = @db.execute(\"select code from MRCONSO where sab=?\", [@sab])\n",
    "    matching_concepts += by_type.map {|cl| to_coding(cl[0])}\n",
    "    return matching_concepts\n",
    "  end\n",
    "  \n",
    "  def query_types_in(type_list, code_list)\n",
    "    matching_concepts = Set.new\n",
    "    type_breaks = (\"?\" * type_list.size).split(//).join(\", \")\n",
    "    code_breaks = (\"?\" * code_list.size).split(//).join(\", \")\n",
    "\n",
    "    q = \"select code, str, tty from MRCONSO where sab=? and tty in (#{type_breaks}) and code in (#{code_breaks})\"\n",
    "    by_type = @db.execute(q, [@sab, *type_list, *code_list])\n",
    "    matching_concepts += by_type.map {|cl| to_coding(cl[0], cl[1])}\n",
    "    return matching_concepts\n",
    "  end\n",
    "end\n",
    "  \n",
    "#ConceptBuilder.new(\"RXNORM\", db).query_types([\"GPCK\", \"BPCK\"]).take(10)\n",
    "#ConceptBuilder.new(\"RXNORM\", db).query_all().take(10)\n",
    "#ConceptBuilder.new(\"LNC\", db).query_all().take(10)"
   ]
  },
  {
   "cell_type": "code",
   "execution_count": 94,
   "metadata": {},
   "outputs": [
    {
     "data": {
      "text/plain": [
       "247"
      ]
     },
     "execution_count": 94,
     "metadata": {},
     "output_type": "execute_result"
    }
   ],
   "source": [
    "# From https://www.cms.gov/Outreach-and-Education/Medicare-Learning-Network-MLN/MLNMattersArticles/Downloads/MM10481.pdf\n",
    "\n",
    "cms_cpt_code_description = \"\"\"\n",
    "Magnetic Resonance Imaging\n",
    "70336, 70540, 70542, 70543, 70544, 70545, 70546, 70547, 70548, 70549, 70551, 70552,\n",
    "70553, 70554, 70555, 71550, 71551, 71552, 71555, 72141, 72142, 72146, 72147, 72148,\n",
    "72149, 72156, 72157, 72158, 72159, 72195, 72196, 72197, 72198, 73218, 73219, 73220,\n",
    "73221, 73222, 73223, 73225, 73718, 73719, 73720, 73721, 73722, 73723, 73725, 74181,\n",
    "74182, 74183, 74185, 75557, 75559, 75561, 75563, 75565, 76498\n",
    "Computerized Tomography\n",
    "70450, 70460, 70470, 70480, 70481, 70482, 70486, 70487, 70488, 70490, 70491, 70492,\n",
    "70496, 70498, 71250, 71260, 71270, 71275, 72125, 72126, 72127, 72128, 72129, 72130,\n",
    "72131, 72132, 72133, 72191, 72192, 72193, 72194, 73200, 73201, 73202, 73206, 73700,\n",
    "73701, 73702, 73706, 74150, 74160, 74170, 74174, 74175, 74176, 74177, 74178, 74261,\n",
    "74262, 74712, 74713, 75571, 75572, 75573, 75574, 75635, 76380, 76497,\n",
    "Single-Photon Emission Computed Tomography\n",
    "76390\n",
    "Nuclear Medicine\n",
    "78012, 78013, 78014, 78015, 78016, 78018, 78020, 78070, 78071, 78072, 78075, 78099,\n",
    "78102, 78103, 78104, 78110, 78111, 78120, 78121, 78122, 78130, 78135, 78140, 78185,\n",
    "78191, 78195, 78199, 78201, 78202, 78205, 78206, 78215, 78216, 78226, 78227, 78230,\n",
    "78231, 78232, 78258, 78261, 78262, 78264, 78265, 78266, 78267, 78268, 78270, 78271,\n",
    "78272, 78278, 78282, 78290, 78291, 78299, 78300, 78305, 78306, 78315, 78320, 78350,\n",
    "78351, 78399, 78414, 78428, 78445, 78451, 78452, 78453, 78454, 78456, 78457, 78458,\n",
    "78459, 78466, 78468, 78469, 78472, 78473, 78481, 78483, 78491, 78492, 78494, 78496,\n",
    "78499, 78579, 78580, 78582, 78597, 78598, 78599, 78600, 78601, 78605, 78606, 78607,\n",
    "78608, 78609, 78610, 78630, 78635, 78645, 78647, 78650, 78660, 78699, 78700, 78701,\n",
    "78707, 78708, 78709, 78710, 78725, 78730, 78740, 78761, 78799, 78800, 78801, 78802,\n",
    "78803, 78804, 78805, 78806, 78807, 78811, 78812, 78813, 78814, 78816, 78999\n",
    "\"\"\"\n",
    "\n",
    "cms_cpt_codes = cms_cpt_code_description.scan(/\\d+/)\n",
    "\n",
    "\n",
    "cms_cpt_codes.length"
   ]
  },
  {
   "cell_type": "code",
   "execution_count": 100,
   "metadata": {},
   "outputs": [
    {
     "data": {
      "text/plain": [
       "640"
      ]
     },
     "execution_count": 100,
     "metadata": {},
     "output_type": "execute_result"
    }
   ],
   "source": [
    "cpt_for_pama = ConceptBuilder.new(\"CPT\", db).query_types_in([\"PT\"], cms_cpt_codes)\n",
    "write_filter_to_file(cpt_for_pama, \"./output/cpt-for-pama\")"
   ]
  },
  {
   "cell_type": "code",
   "execution_count": 95,
   "metadata": {},
   "outputs": [
    {
     "data": {
      "text/plain": [
       "247"
      ]
     },
     "execution_count": 95,
     "metadata": {},
     "output_type": "execute_result"
    }
   ],
   "source": [
    "breaks = (\"?\" * cms_cpt_codes.size).split(//).join(\", \")\n",
    "q = \"select code, str, tty from MRCONSO where sab=? and tty='PT' and code in (#{breaks})\"\n",
    "db.execute(q, [\"CPT\", *cms_cpt_codes]).length\n",
    "\n"
   ]
  },
  {
   "cell_type": "code",
   "execution_count": 99,
   "metadata": {},
   "outputs": [
    {
     "data": {
      "text/plain": [
       ":write_filter_to_file"
      ]
     },
     "execution_count": 99,
     "metadata": {},
     "output_type": "execute_result"
    }
   ],
   "source": [
    "require 'fhir_dstu2_models'\n",
    "\n",
    "$ancestry_builders = {\n",
    "  'SNOMEDCT_US' => snomed_hierarchy\n",
    "  }\n",
    "\n",
    "def codes_for_valueset(vs_argonaut_codes, db)\n",
    "  \n",
    "\n",
    "  vs_set = Set.new\n",
    "  puts \"Num includes: #{vs_argonaut_codes.compose.include.count}\"\n",
    "  apply_filters = lambda do |vs_element, logtag|\n",
    "    \n",
    "    puts \"include #{vs_element}: #{logtag}\"\n",
    "    required_system = vs_element.system\n",
    "    raise \"don't know system\" unless $source_vocabulary_to_fhir_url.values.include?(required_system)\n",
    "\n",
    "    required_key = ($source_vocabulary_to_fhir_url.select {|k,v| v == required_system}).keys[0]\n",
    "    puts required_key\n",
    "    raise \"can't handle filter intersection\" unless vs_element.filter.count <= 1\n",
    "    \n",
    "    if vs_element.filter.count == 0\n",
    "      return ConceptBuilder.new(required_key, db).query_all()\n",
    "    else\n",
    "      filter = vs_element.filter[0]\n",
    "      if filter.op == \"in\"\n",
    "        return ConceptBuilder.new(required_key, db).query_types(filter.value.split(\",\"))\n",
    "      elsif filter.op == \"is-a\"\n",
    "        return $ancestry_builders[required_key].subsumed_by(filter.value)\n",
    "      end\n",
    "    end\n",
    "    puts \"filter done with size: #{vs_set.count}\"    \n",
    "  end\n",
    "  \n",
    "  vs_argonaut_codes.compose.include.each do |vs_include|\n",
    "    vs_set += apply_filters.(vs_include, :include)\n",
    "  end\n",
    "  \n",
    "  vs_argonaut_codes.compose.exclude.each do |vs_exclude|\n",
    "    vs_set -= apply_filters.(vs_exclude, :exclude)\n",
    "  end\n",
    "  \n",
    "  puts vs_set.count\n",
    "  return vs_set\n",
    "end\n",
    "\n",
    "\n",
    "def write_filter_to_file(vs_set, output_file)\n",
    "  vs_array = vs_set.to_a.map do |v|\n",
    "      {\n",
    "        :system => v[:system],\n",
    "        :code => v[:code],\n",
    "        :display => v[:display]\n",
    "\n",
    "        }\n",
    "  end\n",
    "    \n",
    "  Zlib::GzipWriter.open(output_file+\".json.gz\") { |gz| gz.write ({\n",
    "    \"resourceType\"=> \"ValueSet\",\n",
    "    \"expansion\"=> {\n",
    "      \"contains\" =>vs_array\n",
    "      } \n",
    "  }).to_json}\n",
    "\n",
    "  expected_size = 100\n",
    "  false_positive_probability = 0.001\n",
    "\n",
    "  vs_bloom = Bloomer::Scalable.new(expected_size, false_positive_probability)\n",
    "  vs_array.each do |coding|\n",
    "    vs_bloom.add \"#{coding[:system]}|#{coding[:code]}\"\n",
    "  end\n",
    "  \n",
    "  File.open(output_file+\".msgpck\", \"w\") do |f|\n",
    "    f.write(vs_bloom.to_msgpack())\n",
    "  end\n",
    "end"
   ]
  },
  {
   "cell_type": "code",
   "execution_count": null,
   "metadata": {},
   "outputs": [],
   "source": [
    "\n",
    "all_umls_terms = Set.new\n",
    "$source_vocabulary_to_fhir_url.keys.each do |k|\n",
    "  puts k\n",
    "  these_terms = ConceptBuilder.new(k, db).query_all()\n",
    "  write_filter_to_file(these_terms, \"./output/all-#{k.downcase}\")\n",
    "  all_umls_terms += these_terms\n",
    "  manifest[\"filters\"] << {\n",
    "    \"codeSystemUrl\" => $source_vocabulary_to_fhir_url[k],\n",
    "    \"probability\"=> 0.001,\n",
    "    \"file\"=> \"all-#{k.downcase}.msgpck\"\n",
    "  }\n",
    "\n",
    "end\n",
    "write_filter_to_file(all_umls_terms, \"./output/all-umls-terms\")\n",
    "\n",
    "#       coding_system = $source_vocabulary_to_fhir_url[parts[idx_source_vocabulary]]\n",
    "#       coding_code = parts[idx_source_code]\n",
    "#       coding_display = parts[idx_display]\n",
    "#       tty = parts[idx_source_tty]\n",
    "#       $all_by_source_vocabulary[parts[idx_source_vocabulary]].push({\n",
    "#         :system => coding_system,\n",
    "#         :code => coding_code,\n",
    "#         :display => coding_display,\n",
    "#         :tty => parts[idx_source_tty]\n",
    "#       })\n"
   ]
  },
  {
   "cell_type": "code",
   "execution_count": null,
   "metadata": {},
   "outputs": [],
   "source": [
    "manifest = {\n",
    "  \"filters\"=> []\n",
    "  }\n",
    "\n",
    "[\n",
    "  \"daf-problem.canonical\",\n",
    "  \"substance-sct\",\n",
    "  \"medication-codes\",\n",
    "  \"observation-codes\",\n",
    "  \"observation-value-codes\",\n",
    "  \"procedure-type\"].each do |vs_json_file|\n",
    "    vs = open(\"./inferno/resources/argonauts/ValueSet-#{vs_json_file}.json\").read()\n",
    "    vs = FHIR::DSTU2::Json.from_json(vs)\n",
    "    vs_set = codes_for_valueset(vs, db)\n",
    "    vs_url = vs.url\n",
    "    write_filter_to_file(vs_set, \"./output/valueset-#{vs_json_file}\")\n",
    "    manifest[\"filters\"] << {\n",
    "      \"valueSetUrl\" => vs_url,\n",
    "      \"probability\"=> 0.001,\n",
    "      \"file\"=> \"valueset-#{vs_json_file}.msgpck\"\n",
    "    }\n",
    "end\n",
    "\n",
    "open(\"./output/manifest.json\", \"w\") { |mfile| mfile.write(JSON.pretty_generate manifest) }\n",
    "\n",
    "\n",
    "0"
   ]
  },
  {
   "cell_type": "code",
   "execution_count": null,
   "metadata": {},
   "outputs": [],
   "source": [
    "\n",
    "open(\"./output/manifest.json\", \"w\") { |mfile| mfile.write(JSON.pretty_generate manifest) }"
   ]
  },
  {
   "cell_type": "code",
   "execution_count": null,
   "metadata": {},
   "outputs": [],
   "source": [
    "Set.new([{:a=> 1}]) + (Set.new([{:b=> 1}]))"
   ]
  },
  {
   "cell_type": "code",
   "execution_count": null,
   "metadata": {},
   "outputs": [],
   "source": [
    "def a\n",
    "  5\n",
    "end\n",
    "\n",
    "a#to_proc()"
   ]
  },
  {
   "cell_type": "code",
   "execution_count": null,
   "metadata": {},
   "outputs": [],
   "source": [
    "db.execute(\"\n",
    "  select\n",
    "  -- c.cui, c.aui, c.code, c.sab, c.str\n",
    "  *\n",
    "  from mrconso c\n",
    "  join  MRREL r on r.aui1=c.aui\n",
    "  where r.aui2=?\n",
    "  and rel='PAR'\n",
    "  limit 1000\",\n",
    "[aui])"
   ]
  },
  {
   "cell_type": "code",
   "execution_count": null,
   "metadata": {},
   "outputs": [
    {
     "name": "stdout",
     "output_type": "stream",
     "text": [
      "RXNORM\n",
      "tty\n",
      "[\"SCD\", \"SBD\", \"GPCK\", \"BPCK\", \"SCDG\", \"SBDG\", \"SCDF\", \"SBDF\"]\n"
     ]
    },
    {
     "ename": "NoMethodError",
     "evalue": "undefined method `include_codes_in_filter' for main:Object",
     "output_type": "error",
     "traceback": [
      "\u001b[31mNoMethodError\u001b[0m: undefined method `include_codes_in_filter' for main:Object",
      "<main>:58:in `block in bloom_filter_for_valueset'",
      "<main>:37:in `each'",
      "<main>:37:in `bloom_filter_for_valueset'",
      "<main>:64:in `<main>'",
      "/var/lib/gems/2.5.0/gems/iruby-0.4.0/lib/iruby/backend.rb:44:in `eval'",
      "/var/lib/gems/2.5.0/gems/iruby-0.4.0/lib/iruby/backend.rb:44:in `eval'",
      "/var/lib/gems/2.5.0/gems/iruby-0.4.0/lib/iruby/backend.rb:12:in `eval'",
      "/var/lib/gems/2.5.0/gems/iruby-0.4.0/lib/iruby/kernel.rb:90:in `execute_request'",
      "/var/lib/gems/2.5.0/gems/iruby-0.4.0/lib/iruby/kernel.rb:49:in `dispatch'",
      "/var/lib/gems/2.5.0/gems/iruby-0.4.0/lib/iruby/kernel.rb:38:in `run'",
      "/var/lib/gems/2.5.0/gems/iruby-0.4.0/lib/iruby/command.rb:110:in `run_kernel'",
      "/var/lib/gems/2.5.0/gems/iruby-0.4.0/lib/iruby/command.rb:40:in `run'",
      "/var/lib/gems/2.5.0/gems/iruby-0.4.0/bin/iruby:5:in `<top (required)>'",
      "/usr/local/bin/iruby:23:in `load'",
      "/usr/local/bin/iruby:23:in `<main>'"
     ]
    }
   ],
   "source": [
    "require 'fhir_dstu2_models'\n",
    "require 'bloomer'\n",
    "\n",
    "\n",
    "def write_filter_to_file(vs_array, output_file)\n",
    "  Zlib::GzipWriter.open(output_file+\".json.gz\") { |gz| gz.write ({\n",
    "    \"resourceType\"=> \"ValueSet\",\n",
    "    \"expansion\"=> vs_array.map do |v|\n",
    "      {\n",
    "        :system => v[:system],\n",
    "        :code => v[:code],\n",
    "        :display => v[:display]\n",
    "        }\n",
    "    end\n",
    "    }).to_json }\n",
    "\n",
    "  expected_size = 100\n",
    "  false_positive_probability = 0.0001\n",
    "\n",
    "  vs_bloom = Bloomer::Scalable.new(expected_size, false_positive_probability)\n",
    "  vs_array.each do |coding|\n",
    "    vs_bloom.add \"#{coding[:system]}|#{coding[:code]}\"\n",
    "  end\n",
    "  \n",
    "  File.open(output_file+\".msgpck\", \"w\") do |f|\n",
    "    f.write(vs_bloom.to_msgpack())\n",
    "  end\n",
    "end\n",
    "\n",
    "def read_relations()\n",
    "end\n",
    "\n",
    "def bloom_filter_for_valueset(valueset_filename, output_file)\n",
    "  vs_argonaut_codes_str = open(valueset_filename).read()\n",
    "  vs_argonaut_codes = FHIR::DSTU2::Json.from_json(vs_argonaut_codes_str)\n",
    "  vs_array = []\n",
    "\n",
    "  vs_argonaut_codes.compose.include.each do |vs_include|\n",
    "    required_system = vs_include.system\n",
    "    raise \"don't know system\" unless $source_vocabulary_to_fhir_url.values.include?(required_system)\n",
    "\n",
    "    required_key = ($source_vocabulary_to_fhir_url.select {|k,v| v == required_system}).keys[0]\n",
    "    puts required_key\n",
    "    raise \"can't handle filter intersection\" unless vs_include.filter.count <= 1\n",
    "    if vs_include.filter.count == 0\n",
    "      filter_property = nil\n",
    "      filter_values = \"*\"\n",
    "    else\n",
    "      filter = vs_include.filter[0]\n",
    "      if filter.op == \"in\"\n",
    "        filter_property = filter.property.downcase.to_sym\n",
    "        filter_values = filter.value.split(\",\")\n",
    "      else\n",
    "        puts \"backing out for #{output_file} because of op\"\n",
    "        filter_values = \"*\"\n",
    "      end\n",
    "    end \n",
    "    puts(filter_property, filter_values)\n",
    "    include_codes_in_filter(vs_array, required_key, filter_property, filter_values)\n",
    "  end\n",
    "  write_filter_to_file(vs_array, output_file)\n",
    "  puts \"#{output_file}: #{vs_array.count}\"\n",
    "end\n",
    "\n",
    "bloom_filter_for_valueset(\"./inferno/resources/argonauts/ValueSet-medication-codes.json\", \"ValueSet-medication-codes\")\n",
    "bloom_filter_for_valueset(\"./inferno/resources/argonauts/ValueSet-observation-codes.json\", \"ValueSet-observation-codes\")\n",
    "bloom_filter_for_valueset(\"./inferno/resources/argonauts/ValueSet-procedure-type.json\", \"ValueSet-procedure-type\")"
   ]
  },
  {
   "cell_type": "code",
   "execution_count": null,
   "metadata": {},
   "outputs": [],
   "source": [
    "vs_array = []\n",
    "include_codes_in_filter(vs_array, \"SNOMEDCT_US\", :tty, \"*\")\n",
    "puts vs_array.count\n",
    "write_filter_to_file(vs_array, \"sct-us\")\n",
    "\n",
    "\n",
    "vs_array = []\n",
    "include_codes_in_filter(vs_array, \"RXNORM\", :tty, \"*\")\n",
    "puts vs_array.count\n",
    "write_filter_to_file(vs_array, \"rxnorm-all\")\n",
    "\n",
    "\n",
    "vs_array = []\n",
    "include_codes_in_filter(vs_array, \"*\", :tty, \"*\")\n",
    "puts vs_array.count\n",
    "write_filter_to_file(vs_array, \"umls-all\")"
   ]
  },
  {
   "cell_type": "code",
   "execution_count": null,
   "metadata": {},
   "outputs": [],
   "source": [
    "rehydrated = Bloomer::Scalable.from_msgpack(open(\"ValueSet-procedure-type.msgpck\").read())\n",
    "puts rehydrated.count, 26**4\n",
    "\n",
    "chars = 3\n",
    "('a'*chars..'z'*chars).map do |n|\n",
    "  if rehydrated.include?(\"#{n}\")\n",
    "    puts n\n",
    "    1\n",
    "  else\n",
    "    0\n",
    "  end\n",
    "end.sum * 1.0 / (26**chars)"
   ]
  },
  {
   "cell_type": "code",
   "execution_count": 70,
   "metadata": {},
   "outputs": [
    {
     "data": {
      "text/plain": [
       "{:a=>1}"
      ]
     },
     "execution_count": 70,
     "metadata": {},
     "output_type": "execute_result"
    }
   ],
   "source": [
    "{\n",
    "  :a => 1,\n",
    "  :b => nil\n",
    "  }.compact"
   ]
  }
 ],
 "metadata": {
  "kernelspec": {
   "display_name": "Ruby 2.5.5",
   "language": "ruby",
   "name": "ruby"
  },
  "language_info": {
   "file_extension": ".rb",
   "mimetype": "application/x-ruby",
   "name": "ruby",
   "version": "2.5.5"
  }
 },
 "nbformat": 4,
 "nbformat_minor": 2
}
